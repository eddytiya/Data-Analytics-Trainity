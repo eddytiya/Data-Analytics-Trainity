{
  "nbformat": 4,
  "nbformat_minor": 0,
  "metadata": {
    "colab": {
      "provenance": []
    },
    "kernelspec": {
      "name": "python3",
      "display_name": "Python 3"
    },
    "language_info": {
      "name": "python"
    }
  },
  "cells": [
    {
      "cell_type": "code",
      "execution_count": null,
      "metadata": {
        "colab": {
          "base_uri": "https://localhost:8080/"
        },
        "id": "ibL4D1BYsMMV",
        "outputId": "f1686b62-69d5-4f24-b063-0b36aa3abac5"
      },
      "outputs": [
        {
          "output_type": "stream",
          "name": "stdout",
          "text": [
            "Hello world\n"
          ]
        }
      ],
      "source": [
        "print(\"Hello world\")"
      ]
    },
    {
      "cell_type": "code",
      "source": [
        "#indentation\n",
        "if 2<3:\n",
        "  print(\"Yes\")\n",
        "  print(\"2<3\")\n",
        "else:\n",
        "  print(\"NO\")"
      ],
      "metadata": {
        "colab": {
          "base_uri": "https://localhost:8080/"
        },
        "id": "UqhrDNyeuq1m",
        "outputId": "cfbb35ab-ac63-421a-e762-341ad81ede3b"
      },
      "execution_count": null,
      "outputs": [
        {
          "output_type": "stream",
          "name": "stdout",
          "text": [
            "Yes\n",
            "2<3\n"
          ]
        }
      ]
    },
    {
      "cell_type": "code",
      "source": [
        "#arithmatic operators\n",
        "#+,-,*,/\n",
        "print(2+3)\n",
        "print(2-3)\n",
        "print(2*3)\n",
        "print(4/2)\n",
        "#%-remainder of division\n",
        "print(4%2)"
      ],
      "metadata": {
        "colab": {
          "base_uri": "https://localhost:8080/"
        },
        "id": "CpN5wnFZu2wC",
        "outputId": "956a827a-0732-458e-aa43-0eddb5a0cbab"
      },
      "execution_count": null,
      "outputs": [
        {
          "output_type": "stream",
          "name": "stdout",
          "text": [
            "5\n",
            "-1\n",
            "6\n",
            "2.0\n",
            "0\n"
          ]
        }
      ]
    },
    {
      "cell_type": "code",
      "source": [
        "#comparison operators\n",
        "print(2>3)\n",
        "print(2<3)\n",
        "print(2>=3)\n",
        "print(2<=3)\n",
        "print(2==3)\n",
        "print(2!=3)"
      ],
      "metadata": {
        "colab": {
          "base_uri": "https://localhost:8080/"
        },
        "id": "syt6mbZ-wQzX",
        "outputId": "e4924ccc-6714-409a-e721-602e27c9b855"
      },
      "execution_count": null,
      "outputs": [
        {
          "output_type": "stream",
          "name": "stdout",
          "text": [
            "False\n",
            "True\n",
            "False\n",
            "True\n",
            "False\n",
            "True\n"
          ]
        }
      ]
    },
    {
      "cell_type": "code",
      "source": [
        "#logical operators\n",
        "#and,or,not\n",
        "(3>2) and (5<10)             #if both sides are true\n",
        "(3>2) or (5<10)\n",
        "not(3<2)"
      ],
      "metadata": {
        "colab": {
          "base_uri": "https://localhost:8080/"
        },
        "id": "PC78tZWIwiKD",
        "outputId": "aa549ce0-d161-4e30-e72c-20f82714153a"
      },
      "execution_count": null,
      "outputs": [
        {
          "output_type": "execute_result",
          "data": {
            "text/plain": [
              "True"
            ]
          },
          "metadata": {},
          "execution_count": 14
        }
      ]
    },
    {
      "cell_type": "markdown",
      "source": [
        "1. Write a Python program to display \"Hello, World!\" on the console.\n",
        "Hint: To display \"Hello, World!\" on the console in Python, you can make use of the\n",
        "built-in print() function. Remember to enclose the string within quotes ('') or double\n",
        "quotes (\"\") to define it as a string literal."
      ],
      "metadata": {
        "id": "hL5zjYikZT9K"
      }
    },
    {
      "cell_type": "code",
      "source": [
        "print(\"Hello, World!\")"
      ],
      "metadata": {
        "id": "L2IECRQnxPAw",
        "colab": {
          "base_uri": "https://localhost:8080/"
        },
        "outputId": "c14fe202-e21f-4c61-dc81-8f3cf320d46b"
      },
      "execution_count": 1,
      "outputs": [
        {
          "output_type": "stream",
          "name": "stdout",
          "text": [
            "Hello, World!\n"
          ]
        }
      ]
    },
    {
      "cell_type": "markdown",
      "source": [
        "2. Write a Python program that prompts the user to enter two numbers, and\n",
        "then performs the following operations:\n",
        "- Addition: Print the sum of the two numbers.\n",
        "- Subtraction: Print the difference between the two numbers.\n",
        "- Multiplication: Print the product of the two numbers.\n",
        "- Division: Print the result of dividing the first number by the second number.\n",
        "- Hint: Use the input() function to prompt the user to enter two numbers and store them in variables.\n",
        "- Convert the user input from strings to integers or floats using int() or float() functions.\n",
        "- Perform the addition, subtraction, multiplication, and division operations on the numbers.\n",
        "- Print the results using the print() function."
      ],
      "metadata": {
        "id": "tAGxKZtCZlDJ"
      }
    },
    {
      "cell_type": "code",
      "source": [
        "ip1=int(input(\"enter FIRST number\"))\n",
        "ip2=int(input(\"enter SECOND number\"))\n",
        "\n",
        "sum=ip1+ip2\n",
        "print(f\"the sum of {ip1} and {ip2} is {sum}\")\n",
        "sub=ip1-ip2\n",
        "print(f\"the sum of {ip1} and {ip2} is {sub}\")\n",
        "multi=ip1*ip2\n",
        "print(f\"the sum of {ip1} and {ip2} is {multi}\")\n",
        "div=ip1/ip2\n",
        "print(f\"the sum of {ip1} and {ip2} is {div}\")\n"
      ],
      "metadata": {
        "colab": {
          "base_uri": "https://localhost:8080/"
        },
        "id": "L6t5V3PLZfe0",
        "outputId": "25d91e49-02b0-44bd-b189-f4483b2f802e"
      },
      "execution_count": 6,
      "outputs": [
        {
          "output_type": "stream",
          "name": "stdout",
          "text": [
            "enter first number5\n",
            "enter first number5\n",
            "the sum of 5 and 5 is 10\n",
            "the sum of 5 and 5 is 0\n",
            "the sum of 5 and 5 is 25\n",
            "the sum of 5 and 5 is 1.0\n"
          ]
        }
      ]
    },
    {
      "cell_type": "markdown",
      "source": [
        "3. Write a Python program that calculates the area and perimeter of a\n",
        "rectangle. Prompt the user to enter the length and width of the rectangle, and\n",
        "then calculate and print the area and perimeter."
      ],
      "metadata": {
        "id": "Wni_448wbYnL"
      }
    },
    {
      "cell_type": "code",
      "source": [
        "length=int(input(\"enter the length:\"))\n",
        "width=int(input(\"enter the width\"))\n",
        "\n",
        "area=length*width\n",
        "print(f\"the area of rectangle is {area}\")\n",
        "\n",
        "perimeter=2*length+2*width\n",
        "print(f\"the area of rectangle is {perimeter}\")\n",
        "\n"
      ],
      "metadata": {
        "colab": {
          "base_uri": "https://localhost:8080/"
        },
        "id": "4bSpQ_JTaCx6",
        "outputId": "d493d2b6-13eb-4dc3-b70e-ac94c15235ac"
      },
      "execution_count": 7,
      "outputs": [
        {
          "output_type": "stream",
          "name": "stdout",
          "text": [
            "enter the length:5\n",
            "enter the width5\n",
            "the area of rectangle is 25\n",
            "the area of rectangle is 20\n"
          ]
        }
      ]
    },
    {
      "cell_type": "markdown",
      "source": [
        "Write a Python program to convert temperature in Celsius to Fahrenheit. The\n",
        "formula to convert Celsius to Fahrenheit is: F = (C * 9/5) + 32, where F is the\n",
        "temperature in Fahrenheit and C is the temperature in Celsius."
      ],
      "metadata": {
        "id": "rGzpO1eVcVBy"
      }
    },
    {
      "cell_type": "code",
      "source": [],
      "metadata": {
        "id": "LiGX-0IscF6Q"
      },
      "execution_count": 7,
      "outputs": []
    },
    {
      "cell_type": "code",
      "source": [
        "c=length=int(input(\"enter the temp in celcius:\"))\n",
        "\n",
        "F = (c * 9/5) + 32\n",
        "\n",
        "print(f\"the temperature in fahrenheit:{F}\")"
      ],
      "metadata": {
        "colab": {
          "base_uri": "https://localhost:8080/"
        },
        "id": "5UJj30agcYYA",
        "outputId": "d30de691-83e0-44ea-f2c4-1f2c5d7594f0"
      },
      "execution_count": 10,
      "outputs": [
        {
          "output_type": "stream",
          "name": "stdout",
          "text": [
            "enter the temp in celcius:35\n",
            "the temperature in fahrenheit:95.0\n"
          ]
        }
      ]
    },
    {
      "cell_type": "code",
      "source": [],
      "metadata": {
        "id": "gfvxzzaLco-9"
      },
      "execution_count": null,
      "outputs": []
    }
  ]
}